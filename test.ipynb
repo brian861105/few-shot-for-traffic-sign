{
 "cells": [
  {
   "cell_type": "code",
   "execution_count": 1,
   "id": "9730d1db-e193-4c94-8510-f3568723b8e8",
   "metadata": {},
   "outputs": [],
   "source": [
    "from    PIL import Image\n",
    "import  os.path\n",
    "import  numpy as np\n",
    "import glob\n",
    "import random\n",
    "import time\n",
    "import shutil\n",
    "import json\n",
    "from    torch.utils.data import TensorDataset, DataLoader\n",
    "from utils.dataloader import train_data_gen , test_data_gen"
   ]
  },
  {
   "cell_type": "code",
   "execution_count": 2,
   "id": "04d870dc-d799-4975-ab17-eaca9482a634",
   "metadata": {},
   "outputs": [],
   "source": [
    "with open('configs/0617_5way1shot.json') as json_file:\n",
    "    args = json.load(json_file)"
   ]
  },
  {
   "cell_type": "code",
   "execution_count": 3,
   "id": "1af632ef-a767-4fd4-aa68-3d87bc2b4cec",
   "metadata": {},
   "outputs": [
    {
     "name": "stdout",
     "output_type": "stream",
     "text": [
      "load datasets/BelgiumTSC\n",
      "load complete time 0.017737627029418945\n",
      "load datasets/ArTS\n",
      "load complete time 0.0066776275634765625\n",
      "load datasets/chinese_traffic_sign\n",
      "load complete time 0.05648350715637207\n",
      "load datasets/CVL\n",
      "load complete time 0.008674383163452148\n",
      "load datasets/FullJCNN2013\n",
      "load complete time 0.002333402633666992\n",
      "load datasets/logo_2k\n",
      "load complete time 0.3948032855987549\n",
      "load datasets/GTSRB\n",
      "load complete time 0.09271526336669922\n",
      "load datasets/DFG\n",
      "load complete time 0.035532236099243164\n"
     ]
    }
   ],
   "source": [
    "train_data_generator = train_data_gen(args)\n",
    "test_data_generator = test_data_gen(args)"
   ]
  },
  {
   "cell_type": "code",
   "execution_count": 4,
   "id": "5f9b4ecc-09e5-4b2c-9f81-8d9c4da37d98",
   "metadata": {},
   "outputs": [],
   "source": [
    "train_dataloader = DataLoader(train_data_generator, args[\"tasks_per_batch\"], shuffle=True, num_workers=2, pin_memory=True)"
   ]
  },
  {
   "cell_type": "code",
   "execution_count": 5,
   "id": "5114ff0e-5b12-4f54-b17d-1023aa84f0c3",
   "metadata": {
    "scrolled": true,
    "tags": []
   },
   "outputs": [
    {
     "name": "stdout",
     "output_type": "stream",
     "text": [
      "datasets/CVL\n",
      "datasets/ArTS\n",
      "datasets/chinese_traffic_sign\n",
      "datasets/logo_2k\n",
      "datasets/BelgiumTSC\n",
      "datasets/FullJCNN2013\n",
      "0\n",
      "1\n",
      "2\n",
      "3\n",
      "4\n",
      "5\n"
     ]
    }
   ],
   "source": [
    "train_dataloader = DataLoader(train_data_generator, 1, shuffle=True, num_workers=1, pin_memory=True)\n",
    "\n",
    "for idx, (x_spt, y_spt, x_qry, y_qry) in enumerate(train_dataloader):\n",
    "    print(idx)\n",
    "    tmp_x_spt, tmp_y_spt, tmp_x_qry, tmp_y_qry = x_spt.squeeze(0), y_spt.squeeze(0), \\\n",
    "                                 x_qry.squeeze(0), y_qry.squeeze(0)"
   ]
  },
  {
   "cell_type": "code",
   "execution_count": null,
   "id": "f6cedd9f-c7fa-4736-beb5-93b2c52c5dab",
   "metadata": {},
   "outputs": [],
   "source": []
  }
 ],
 "metadata": {
  "kernelspec": {
   "display_name": "metagan",
   "language": "python",
   "name": "metagan"
  },
  "language_info": {
   "codemirror_mode": {
    "name": "ipython",
    "version": 3
   },
   "file_extension": ".py",
   "mimetype": "text/x-python",
   "name": "python",
   "nbconvert_exporter": "python",
   "pygments_lexer": "ipython3",
   "version": "3.8.0"
  }
 },
 "nbformat": 4,
 "nbformat_minor": 5
}
