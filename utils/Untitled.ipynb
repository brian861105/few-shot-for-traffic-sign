{
 "cells": [
  {
   "cell_type": "code",
   "execution_count": 4,
   "id": "8b998b92-c49c-4a9c-b113-106686b965d5",
   "metadata": {},
   "outputs": [],
   "source": [
    "from    PIL import Image\n",
    "import  os.path\n",
    "import  numpy as np\n",
    "import glob\n",
    "import random\n",
    "import time\n",
    "import shutil\n",
    "from    torch.utils.data import TensorDataset, DataLoader\n",
    "# from utils.dataloader import train_data_gen , test_data_gen"
   ]
  },
  {
   "cell_type": "code",
   "execution_count": 5,
   "id": "171e37ec-8541-4651-af5b-62a7dc3cb057",
   "metadata": {},
   "outputs": [
    {
     "ename": "NameError",
     "evalue": "name 'train_data_generator' is not defined",
     "output_type": "error",
     "traceback": [
      "\u001b[0;31m---------------------------------------------------------------------------\u001b[0m",
      "\u001b[0;31mNameError\u001b[0m                                 Traceback (most recent call last)",
      "Input \u001b[0;32mIn [5]\u001b[0m, in \u001b[0;36m<cell line: 1>\u001b[0;34m()\u001b[0m\n\u001b[0;32m----> 1\u001b[0m train_dataloader \u001b[38;5;241m=\u001b[39m DataLoader(\u001b[43mtrain_data_generator\u001b[49m, args[\u001b[38;5;124m\"\u001b[39m\u001b[38;5;124mtasks_per_batch\u001b[39m\u001b[38;5;124m\"\u001b[39m], shuffle\u001b[38;5;241m=\u001b[39m\u001b[38;5;28;01mTrue\u001b[39;00m, num_workers\u001b[38;5;241m=\u001b[39m\u001b[38;5;241m2\u001b[39m, pin_memory\u001b[38;5;241m=\u001b[39m\u001b[38;5;28;01mTrue\u001b[39;00m)\n",
      "\u001b[0;31mNameError\u001b[0m: name 'train_data_generator' is not defined"
     ]
    }
   ],
   "source": [
    "train_dataloader = DataLoader(train_data_generator, args[\"tasks_per_batch\"], shuffle=True, num_workers=2, pin_memory=True)"
   ]
  },
  {
   "cell_type": "code",
   "execution_count": 43,
   "id": "3ba1478a-cfd1-4ce4-8e3b-6112ecf9bf34",
   "metadata": {},
   "outputs": [],
   "source": [
    "import numpy as np\n",
    "a = [1,2,3,4,5,10,3,5,2]\n",
    "np.random.choice(a,3,False)\n",
    "b = np.random.choice(50, 5, False)\n",
    "c = np.random.choice(b,3,False)"
   ]
  },
  {
   "cell_type": "code",
   "execution_count": 44,
   "id": "03a60b9e-7812-4c7c-a695-8412ed538419",
   "metadata": {},
   "outputs": [
    {
     "data": {
      "text/plain": [
       "array([32, 42,  1, 35, 31, 35, 32,  1])"
      ]
     },
     "execution_count": 44,
     "metadata": {},
     "output_type": "execute_result"
    }
   ],
   "source": [
    "np.concatenate((b,c),axis=0)"
   ]
  },
  {
   "cell_type": "code",
   "execution_count": 24,
   "id": "33f845dd-8ce4-4a3e-9083-95ad2f0b7a43",
   "metadata": {},
   "outputs": [],
   "source": [
    "data = glob.glob(f\"../datasets/*/train/*\")\n",
    "for i in data:\n",
    "    \n",
    "\n",
    "    for image_file in glob.glob(i + \"/*）.jpg\"):\n",
    "        print(image_file)\n",
    "        # os.remove(image_file)"
   ]
  },
  {
   "cell_type": "code",
   "execution_count": 22,
   "id": "805b22d0-b0e3-449c-a601-86dd6a7ea310",
   "metadata": {},
   "outputs": [
    {
     "name": "stdout",
     "output_type": "stream",
     "text": [
      "../datasets/BelgiumTSC/train/00049\n",
      "../datasets/BelgiumTSC/train/00050\n",
      "../datasets/BelgiumTSC/train/00002\n",
      "../datasets/BelgiumTSC/train/00033\n",
      "../datasets/BelgiumTSC/train/00048\n",
      "../datasets/BelgiumTSC/train/00036\n",
      "../datasets/BelgiumTSC/train/00005\n",
      "../datasets/BelgiumTSC/train/00009\n",
      "../datasets/BelgiumTSC/train/00060\n",
      "../datasets/chinese_traffic_sign/train/ph4.2\n",
      "../datasets/chinese_traffic_sign/train/p16\n",
      "../datasets/chinese_traffic_sign/train/p17\n",
      "../datasets/chinese_traffic_sign/train/ph3\n",
      "../datasets/chinese_traffic_sign/train/w3\n",
      "../datasets/chinese_traffic_sign/train/pm5\n",
      "../datasets/chinese_traffic_sign/train/i13\n",
      "../datasets/chinese_traffic_sign/train/il110\n",
      "../datasets/chinese_traffic_sign/train/pr70\n",
      "../datasets/chinese_traffic_sign/train/pl35\n",
      "../datasets/chinese_traffic_sign/train/ph2.8\n",
      "../datasets/chinese_traffic_sign/train/ph3.3\n",
      "../datasets/chinese_traffic_sign/train/pm15\n",
      "../datasets/CVL/train/PASS_LEFT_SIDE\n",
      "../datasets/CVL/train/120_SIGN\n",
      "../datasets/FullJCNN2013/train/15\n",
      "../datasets/FullJCNN2013/train/17\n",
      "../datasets/FullJCNN2013/train/35\n"
     ]
    }
   ],
   "source": [
    "data = glob.glob(f\"../datasets/*/train/*\")\n",
    "for i in data:\n",
    "    \n",
    "    if (len(glob.glob(i + \"/*.jpg\"))) <= 20:\n",
    "        print(i)\n",
    "    # if (glob.glob(i + \"/*copy*.jpg\")):\n",
    "    #     for image_file in glob.glob(i + \"/*copy*.jpg\"):\n",
    "    #         # print(image_file)\n",
    "    #         os.remove(image_file)"
   ]
  },
  {
   "cell_type": "code",
   "execution_count": 16,
   "id": "ca440ae3-2cd6-4302-8e8f-cda0cc3a942a",
   "metadata": {},
   "outputs": [
    {
     "name": "stdout",
     "output_type": "stream",
     "text": [
      "../datasets/ArTS/test/20\n",
      "../datasets/ArTS/test/5\n",
      "../datasets/ArTS/test/14\n",
      "../datasets/ArTS/test/8\n",
      "../datasets/ArTS/test/4\n",
      "../datasets/ArTS/test/3\n",
      "../datasets/ArTS/test/13\n",
      "../datasets/ArTS/test/19\n",
      "../datasets/ArTS/test/11\n",
      "../datasets/ArTS/test/7\n",
      "../datasets/ArTS/test/16\n",
      "../datasets/DFG/test/IV-11\n",
      "../datasets/DFG/test/IV-3-1\n",
      "../datasets/DFG/test/II-45.1\n",
      "../datasets/DFG/test/II-3\n",
      "../datasets/DFG/test/I-32\n",
      "../datasets/DFG/test/II-46.1\n",
      "../datasets/DFG/test/III-37\n",
      "../datasets/DFG/test/IV-1\n",
      "../datasets/DFG/test/IV-2\n",
      "../datasets/DFG/test/II-7.1\n",
      "../datasets/DFG/test/II-46\n",
      "../datasets/DFG/test/IV-6\n",
      "../datasets/DFG/test/II-45.2\n",
      "../datasets/DFG/test/III-107.2-2\n",
      "../datasets/DFG/test/III-25\n",
      "../datasets/DFG/test/X-4\n",
      "../datasets/DFG/test/I-29\n",
      "../datasets/DFG/test/III-120.1\n",
      "../datasets/DFG/test/III-5\n",
      "../datasets/DFG/test/IV-16\n",
      "../datasets/DFG/test/III-113\n",
      "../datasets/DFG/test/III-120-1\n",
      "../datasets/DFG/test/III-23\n",
      "../datasets/DFG/test/III-45\n",
      "../datasets/DFG/test/III-35\n",
      "../datasets/DFG/test/VI-3-1\n",
      "../datasets/DFG/test/III-54\n",
      "../datasets/DFG/test/III-16\n",
      "../datasets/DFG/test/III-39\n",
      "../datasets/DFG/test/IV-13-6\n",
      "../datasets/DFG/test/II-47\n",
      "../datasets/DFG/test/I-28.1\n",
      "../datasets/DFG/test/IV-13.1-3\n",
      "../datasets/DFG/test/II-48\n",
      "../datasets/DFG/test/III-90.2\n",
      "../datasets/DFG/test/IV-13.1-2\n",
      "../datasets/DFG/test/II-1\n",
      "../datasets/DFG/test/IV-13.1-4\n",
      "../datasets/DFG/test/II-42\n",
      "../datasets/DFG/test/IV-12\n",
      "../datasets/DFG/test/I-18\n",
      "../datasets/DFG/test/III-2\n",
      "../datasets/DFG/test/III-202-5\n",
      "../datasets/DFG/test/III-29-30\n",
      "../datasets/DFG/test/III-46\n",
      "../datasets/DFG/test/III-112\n"
     ]
    }
   ],
   "source": [
    "data = glob.glob(f\"../datasets/*/test/*\")\n",
    "for i in data:\n",
    "    \n",
    "    if (len(glob.glob(i + \"/*.jpg\"))) <= 20:\n",
    "        print(i)\n",
    "    # if (glob.glob(i + \"/*copy*.jpg\")):\n",
    "    #     for image_file in glob.glob(i + \"/*copy*.jpg\"):\n",
    "    #         # print(image_file)\n",
    "    #         os.remove(image_file)"
   ]
  },
  {
   "cell_type": "code",
   "execution_count": 10,
   "id": "03d86cbf-0575-4e64-a222-c69d5e70ce8f",
   "metadata": {},
   "outputs": [
    {
     "name": "stdout",
     "output_type": "stream",
     "text": [
      "../datasets/ArTS/test/20\n",
      "../datasets/ArTS/test/5\n",
      "../datasets/ArTS/test/14\n",
      "../datasets/ArTS/test/8\n",
      "../datasets/ArTS/test/4\n",
      "../datasets/ArTS/test/3\n",
      "../datasets/ArTS/test/13\n",
      "../datasets/ArTS/test/19\n",
      "../datasets/ArTS/test/11\n",
      "../datasets/ArTS/test/7\n",
      "../datasets/ArTS/test/16\n",
      "../datasets/DFG/test/IV-11\n",
      "../datasets/DFG/test/IV-3-1\n",
      "../datasets/DFG/test/II-45.1\n",
      "../datasets/DFG/test/II-3\n",
      "../datasets/DFG/test/I-32\n",
      "../datasets/DFG/test/II-46.1\n",
      "../datasets/DFG/test/III-37\n",
      "../datasets/DFG/test/IV-1\n",
      "../datasets/DFG/test/IV-2\n",
      "../datasets/DFG/test/II-7.1\n",
      "../datasets/DFG/test/II-46\n",
      "../datasets/DFG/test/IV-6\n",
      "../datasets/DFG/test/II-45.2\n",
      "../datasets/DFG/test/III-25\n",
      "../datasets/DFG/test/X-4\n",
      "../datasets/DFG/test/I-29\n",
      "../datasets/DFG/test/III-120.1\n",
      "../datasets/DFG/test/III-5\n",
      "../datasets/DFG/test/III-113\n",
      "../datasets/DFG/test/III-120-1\n",
      "../datasets/DFG/test/III-23\n",
      "../datasets/DFG/test/III-45\n",
      "../datasets/DFG/test/III-35\n",
      "../datasets/DFG/test/III-54\n",
      "../datasets/DFG/test/III-16\n",
      "../datasets/DFG/test/III-39\n",
      "../datasets/DFG/test/IV-13-6\n",
      "../datasets/DFG/test/II-47\n",
      "../datasets/DFG/test/I-28.1\n",
      "../datasets/DFG/test/IV-13.1-3\n",
      "../datasets/DFG/test/II-48\n",
      "../datasets/DFG/test/III-90.2\n",
      "../datasets/DFG/test/IV-13.1-2\n",
      "../datasets/DFG/test/II-1\n",
      "../datasets/DFG/test/II-42\n",
      "../datasets/DFG/test/IV-12\n",
      "../datasets/DFG/test/I-18\n",
      "../datasets/DFG/test/III-2\n",
      "../datasets/DFG/test/III-202-5\n",
      "../datasets/DFG/test/III-29-30\n",
      "../datasets/DFG/test/III-46\n",
      "../datasets/DFG/test/III-112\n"
     ]
    }
   ],
   "source": [
    "data = glob.glob(f\"../datasets/*/test/*\")\n",
    "for i in data:\n",
    "    if (len(glob.glob(i + \"/*.jpg\"))) <= 20:\n",
    "        print(i)"
   ]
  },
  {
   "cell_type": "code",
   "execution_count": 43,
   "id": "2cefd3f8-44e7-484c-b350-607126f90a85",
   "metadata": {},
   "outputs": [],
   "source": [
    "data = glob.glob(f\"../datasets/*/test/*\")\n",
    "for i in data:\n",
    "    \n",
    "    if (len(glob.glob(i + \"/*.jpg\"))) < 20:\n",
    "        \n",
    "        copy_image_num = 20 - len(glob.glob(i + \"/*.jpg\"))\n",
    "        if copy_image_num == 1:\n",
    "            \n",
    "            source = random.choice(glob.glob(i + \"/*.jpg\"))\n",
    "            copy_file = source[:-4] + \"_copy.jpg\"\n",
    "            shutil.copyfile(source,copy_file)\n",
    "        else:\n",
    "            for source in random.choices(glob.glob(i + \"/*.jpg\"),k=copy_image_num):\n",
    "                copy_file = source[:-4] + \"_copy.jpg\"\n",
    "                shutil.copyfile(source,copy_file)"
   ]
  },
  {
   "cell_type": "code",
   "execution_count": 26,
   "id": "9f9f37e0-4d3d-4888-a402-74847e4f5486",
   "metadata": {},
   "outputs": [
    {
     "name": "stdout",
     "output_type": "stream",
     "text": [
      "../datasets/ArTS/test/5/narro_from_lef-14071_copy.jpg\n",
      "../datasets/ArTS/test/5/narro_from_lef-14134_copy.jpg\n"
     ]
    }
   ],
   "source": [
    "for source in random.choices(glob.glob(\"../datasets/ArTS/test/5\" + \"/*.jpg\"),k=2):\n",
    "    copy_file = source[:-4] + \"_copy.jpg\"\n",
    "    shutil.copy_file(source,copy_file)"
   ]
  },
  {
   "cell_type": "code",
   "execution_count": null,
   "id": "4cde330e-9bfd-4043-b785-b07120ef3909",
   "metadata": {},
   "outputs": [],
   "source": []
  }
 ],
 "metadata": {
  "kernelspec": {
   "display_name": "metagan",
   "language": "python",
   "name": "metagan"
  },
  "language_info": {
   "codemirror_mode": {
    "name": "ipython",
    "version": 3
   },
   "file_extension": ".py",
   "mimetype": "text/x-python",
   "name": "python",
   "nbconvert_exporter": "python",
   "pygments_lexer": "ipython3",
   "version": "3.8.0"
  }
 },
 "nbformat": 4,
 "nbformat_minor": 5
}
