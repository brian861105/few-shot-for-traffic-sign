{
 "cells": [
  {
   "cell_type": "code",
   "execution_count": 61,
   "id": "083ec19c-5ade-47f7-91dd-2e80d88f6f70",
   "metadata": {},
   "outputs": [],
   "source": [
    "import pandas as pd\n",
    "import os"
   ]
  },
  {
   "cell_type": "code",
   "execution_count": 90,
   "id": "f07d2f96-5e00-4e62-9325-0deee4e4cae8",
   "metadata": {},
   "outputs": [],
   "source": [
    "csv_path = \"run-distractor15_consine-tag-Accuracy_test_query_nway_accuracy.csv\"\n",
    "df = pd.read_csv(csv_path)\n",
    "os.remove(csv_path)"
   ]
  },
  {
   "cell_type": "code",
   "execution_count": 91,
   "id": "b085740d-ef03-451b-ba4b-ec8f80e59de1",
   "metadata": {},
   "outputs": [
    {
     "data": {
      "text/plain": [
       "'run-distractor15_consine-tag-Accuracy_test_query_nway_accuracy.csv'"
      ]
     },
     "execution_count": 91,
     "metadata": {},
     "output_type": "execute_result"
    }
   ],
   "source": [
    "csv_path"
   ]
  },
  {
   "cell_type": "code",
   "execution_count": 92,
   "id": "61fed44e-09b5-4913-9523-86b26192ec8d",
   "metadata": {},
   "outputs": [],
   "source": [
    "df = df[df[\"Step\"] > 10000]"
   ]
  },
  {
   "cell_type": "code",
   "execution_count": 93,
   "id": "b4871dc7-c923-41c3-8530-7fc712e744d6",
   "metadata": {},
   "outputs": [
    {
     "data": {
      "text/plain": [
       "('0.8532', '0.0144')"
      ]
     },
     "execution_count": 93,
     "metadata": {},
     "output_type": "execute_result"
    }
   ],
   "source": [
    "f\"{df.Value.mean():.4f}\",f\"{df.Value.std():.04f}\""
   ]
  },
  {
   "cell_type": "code",
   "execution_count": null,
   "id": "4226e002-6540-45b4-a003-7804cb258377",
   "metadata": {},
   "outputs": [],
   "source": []
  }
 ],
 "metadata": {
  "kernelspec": {
   "display_name": "Python 3",
   "language": "python",
   "name": "python3"
  },
  "language_info": {
   "codemirror_mode": {
    "name": "ipython",
    "version": 3
   },
   "file_extension": ".py",
   "mimetype": "text/x-python",
   "name": "python",
   "nbconvert_exporter": "python",
   "pygments_lexer": "ipython3",
   "version": "3.6.9"
  }
 },
 "nbformat": 4,
 "nbformat_minor": 5
}
