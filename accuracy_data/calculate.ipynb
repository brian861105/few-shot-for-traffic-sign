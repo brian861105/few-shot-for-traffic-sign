{
 "cells": [
  {
   "cell_type": "code",
   "execution_count": 30,
   "id": "083ec19c-5ade-47f7-91dd-2e80d88f6f70",
   "metadata": {},
   "outputs": [],
   "source": [
    "import pandas as pd\n",
    "import os"
   ]
  },
  {
   "cell_type": "code",
   "execution_count": 31,
   "id": "f07d2f96-5e00-4e62-9325-0deee4e4cae8",
   "metadata": {},
   "outputs": [],
   "source": [
    "csv_path = \"run-0704_5way1shot2distractor1gan1-tag-Accuracy_test_query_nway_accuracy.csv\"\n",
    "df = pd.read_csv(csv_path)\n",
    "os.remove(csv_path)"
   ]
  },
  {
   "cell_type": "code",
   "execution_count": 32,
   "id": "61fed44e-09b5-4913-9523-86b26192ec8d",
   "metadata": {},
   "outputs": [],
   "source": [
    "df = df[df[\"Step\"] > 10000]"
   ]
  },
  {
   "cell_type": "code",
   "execution_count": 33,
   "id": "b4871dc7-c923-41c3-8530-7fc712e744d6",
   "metadata": {},
   "outputs": [
    {
     "data": {
      "text/plain": [
       "(0.7838712993421053, 0.03076353167810584)"
      ]
     },
     "execution_count": 33,
     "metadata": {},
     "output_type": "execute_result"
    }
   ],
   "source": [
    "df.Value.mean(),df.Value.std()"
   ]
  },
  {
   "cell_type": "code",
   "execution_count": null,
   "id": "8d9e98b6-7c16-4af0-a5e0-ae2e97052caa",
   "metadata": {},
   "outputs": [],
   "source": []
  }
 ],
 "metadata": {
  "kernelspec": {
   "display_name": "Python 3",
   "language": "python",
   "name": "python3"
  },
  "language_info": {
   "codemirror_mode": {
    "name": "ipython",
    "version": 3
   },
   "file_extension": ".py",
   "mimetype": "text/x-python",
   "name": "python",
   "nbconvert_exporter": "python",
   "pygments_lexer": "ipython3",
   "version": "3.6.9"
  }
 },
 "nbformat": 4,
 "nbformat_minor": 5
}
