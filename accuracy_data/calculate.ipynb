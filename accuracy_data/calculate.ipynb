{
 "cells": [
  {
   "cell_type": "code",
   "execution_count": 1,
   "id": "083ec19c-5ade-47f7-91dd-2e80d88f6f70",
   "metadata": {},
   "outputs": [],
   "source": [
    "import pandas as pd\n",
    "import os"
   ]
  },
  {
   "cell_type": "code",
   "execution_count": 10,
   "id": "9f9250ef-4bc6-4fe5-b7dc-cb2d9c805e1c",
   "metadata": {},
   "outputs": [],
   "source": [
    "csv_path = \"run-maml_base_5shot-tag-Accuracy_test_query_nway_accuracy.csv\"\n",
    "df = pd.read_csv(csv_path)\n",
    "# df = df[df[\"Step\"] > 10000]\n",
    "# os.remove(csv_path)\n",
    "# csv_path"
   ]
  },
  {
   "cell_type": "code",
   "execution_count": 11,
   "id": "7fa83aca-d3c1-44b1-be8f-0252c5f6edee",
   "metadata": {},
   "outputs": [
    {
     "data": {
      "text/html": [
       "<div>\n",
       "<style scoped>\n",
       "    .dataframe tbody tr th:only-of-type {\n",
       "        vertical-align: middle;\n",
       "    }\n",
       "\n",
       "    .dataframe tbody tr th {\n",
       "        vertical-align: top;\n",
       "    }\n",
       "\n",
       "    .dataframe thead th {\n",
       "        text-align: right;\n",
       "    }\n",
       "</style>\n",
       "<table border=\"1\" class=\"dataframe\">\n",
       "  <thead>\n",
       "    <tr style=\"text-align: right;\">\n",
       "      <th></th>\n",
       "      <th>Wall time</th>\n",
       "      <th>Step</th>\n",
       "      <th>Value</th>\n",
       "    </tr>\n",
       "  </thead>\n",
       "  <tbody>\n",
       "    <tr>\n",
       "      <th>0</th>\n",
       "      <td>1.659786e+09</td>\n",
       "      <td>0</td>\n",
       "      <td>0.709473</td>\n",
       "    </tr>\n",
       "    <tr>\n",
       "      <th>1</th>\n",
       "      <td>1.659786e+09</td>\n",
       "      <td>100</td>\n",
       "      <td>0.800781</td>\n",
       "    </tr>\n",
       "    <tr>\n",
       "      <th>2</th>\n",
       "      <td>1.659787e+09</td>\n",
       "      <td>200</td>\n",
       "      <td>0.835938</td>\n",
       "    </tr>\n",
       "    <tr>\n",
       "      <th>3</th>\n",
       "      <td>1.659787e+09</td>\n",
       "      <td>300</td>\n",
       "      <td>0.846680</td>\n",
       "    </tr>\n",
       "    <tr>\n",
       "      <th>4</th>\n",
       "      <td>1.659787e+09</td>\n",
       "      <td>400</td>\n",
       "      <td>0.857910</td>\n",
       "    </tr>\n",
       "    <tr>\n",
       "      <th>...</th>\n",
       "      <td>...</td>\n",
       "      <td>...</td>\n",
       "      <td>...</td>\n",
       "    </tr>\n",
       "    <tr>\n",
       "      <th>83</th>\n",
       "      <td>1.659797e+09</td>\n",
       "      <td>8300</td>\n",
       "      <td>0.956543</td>\n",
       "    </tr>\n",
       "    <tr>\n",
       "      <th>80</th>\n",
       "      <td>1.659797e+09</td>\n",
       "      <td>8000</td>\n",
       "      <td>0.957031</td>\n",
       "    </tr>\n",
       "    <tr>\n",
       "      <th>96</th>\n",
       "      <td>1.659799e+09</td>\n",
       "      <td>9600</td>\n",
       "      <td>0.957520</td>\n",
       "    </tr>\n",
       "    <tr>\n",
       "      <th>72</th>\n",
       "      <td>1.659796e+09</td>\n",
       "      <td>7200</td>\n",
       "      <td>0.958008</td>\n",
       "    </tr>\n",
       "    <tr>\n",
       "      <th>56</th>\n",
       "      <td>1.659794e+09</td>\n",
       "      <td>5600</td>\n",
       "      <td>0.959961</td>\n",
       "    </tr>\n",
       "  </tbody>\n",
       "</table>\n",
       "<p>108 rows × 3 columns</p>\n",
       "</div>"
      ],
      "text/plain": [
       "       Wall time  Step     Value\n",
       "0   1.659786e+09     0  0.709473\n",
       "1   1.659786e+09   100  0.800781\n",
       "2   1.659787e+09   200  0.835938\n",
       "3   1.659787e+09   300  0.846680\n",
       "4   1.659787e+09   400  0.857910\n",
       "..           ...   ...       ...\n",
       "83  1.659797e+09  8300  0.956543\n",
       "80  1.659797e+09  8000  0.957031\n",
       "96  1.659799e+09  9600  0.957520\n",
       "72  1.659796e+09  7200  0.958008\n",
       "56  1.659794e+09  5600  0.959961\n",
       "\n",
       "[108 rows x 3 columns]"
      ]
     },
     "execution_count": 11,
     "metadata": {},
     "output_type": "execute_result"
    }
   ],
   "source": [
    "df.sort_values(by=['Value'])"
   ]
  },
  {
   "cell_type": "code",
   "execution_count": 16,
   "id": "ce0aaba6-ecfb-4f7b-983e-67c37feb7a4f",
   "metadata": {},
   "outputs": [],
   "source": [
    "csv_path = \"run-3shot2distractor15_with_data_augmentation_test_guasian_noise5-tag-Accuracy_test_label_query_nway_accuracy.csv\"\n",
    "df = pd.read_csv(csv_path)\n",
    "# df = df[df[\"Step\"] > 10000]\n",
    "# os.remove(csv_path)\n",
    "# csv_path"
   ]
  },
  {
   "cell_type": "code",
   "execution_count": 17,
   "id": "9544ebae-7bdd-427a-b38a-21850ad73056",
   "metadata": {},
   "outputs": [
    {
     "data": {
      "text/html": [
       "<div>\n",
       "<style scoped>\n",
       "    .dataframe tbody tr th:only-of-type {\n",
       "        vertical-align: middle;\n",
       "    }\n",
       "\n",
       "    .dataframe tbody tr th {\n",
       "        vertical-align: top;\n",
       "    }\n",
       "\n",
       "    .dataframe thead th {\n",
       "        text-align: right;\n",
       "    }\n",
       "</style>\n",
       "<table border=\"1\" class=\"dataframe\">\n",
       "  <thead>\n",
       "    <tr style=\"text-align: right;\">\n",
       "      <th></th>\n",
       "      <th>Wall time</th>\n",
       "      <th>Step</th>\n",
       "      <th>Value</th>\n",
       "    </tr>\n",
       "  </thead>\n",
       "  <tbody>\n",
       "    <tr>\n",
       "      <th>103</th>\n",
       "      <td>1.659891e+09</td>\n",
       "      <td>10300</td>\n",
       "      <td>0.90332</td>\n",
       "    </tr>\n",
       "  </tbody>\n",
       "</table>\n",
       "</div>"
      ],
      "text/plain": [
       "        Wall time   Step    Value\n",
       "103  1.659891e+09  10300  0.90332"
      ]
     },
     "execution_count": 17,
     "metadata": {},
     "output_type": "execute_result"
    }
   ],
   "source": [
    "df[df[\"Step\"]==10300]"
   ]
  },
  {
   "cell_type": "code",
   "execution_count": 13,
   "id": "de356e0c-1e9a-42dd-9ac9-c422116e2739",
   "metadata": {},
   "outputs": [
    {
     "data": {
      "text/html": [
       "<div>\n",
       "<style scoped>\n",
       "    .dataframe tbody tr th:only-of-type {\n",
       "        vertical-align: middle;\n",
       "    }\n",
       "\n",
       "    .dataframe tbody tr th {\n",
       "        vertical-align: top;\n",
       "    }\n",
       "\n",
       "    .dataframe thead th {\n",
       "        text-align: right;\n",
       "    }\n",
       "</style>\n",
       "<table border=\"1\" class=\"dataframe\">\n",
       "  <thead>\n",
       "    <tr style=\"text-align: right;\">\n",
       "      <th></th>\n",
       "      <th>Wall time</th>\n",
       "      <th>Step</th>\n",
       "      <th>Value</th>\n",
       "    </tr>\n",
       "  </thead>\n",
       "  <tbody>\n",
       "    <tr>\n",
       "      <th>0</th>\n",
       "      <td>1.659869e+09</td>\n",
       "      <td>0</td>\n",
       "      <td>0.555664</td>\n",
       "    </tr>\n",
       "    <tr>\n",
       "      <th>1</th>\n",
       "      <td>1.659869e+09</td>\n",
       "      <td>100</td>\n",
       "      <td>0.604492</td>\n",
       "    </tr>\n",
       "    <tr>\n",
       "      <th>2</th>\n",
       "      <td>1.659869e+09</td>\n",
       "      <td>200</td>\n",
       "      <td>0.673340</td>\n",
       "    </tr>\n",
       "    <tr>\n",
       "      <th>5</th>\n",
       "      <td>1.659870e+09</td>\n",
       "      <td>500</td>\n",
       "      <td>0.677246</td>\n",
       "    </tr>\n",
       "    <tr>\n",
       "      <th>4</th>\n",
       "      <td>1.659870e+09</td>\n",
       "      <td>400</td>\n",
       "      <td>0.686523</td>\n",
       "    </tr>\n",
       "    <tr>\n",
       "      <th>...</th>\n",
       "      <td>...</td>\n",
       "      <td>...</td>\n",
       "      <td>...</td>\n",
       "    </tr>\n",
       "    <tr>\n",
       "      <th>49</th>\n",
       "      <td>1.659880e+09</td>\n",
       "      <td>4900</td>\n",
       "      <td>0.926270</td>\n",
       "    </tr>\n",
       "    <tr>\n",
       "      <th>64</th>\n",
       "      <td>1.659883e+09</td>\n",
       "      <td>6400</td>\n",
       "      <td>0.926270</td>\n",
       "    </tr>\n",
       "    <tr>\n",
       "      <th>62</th>\n",
       "      <td>1.659882e+09</td>\n",
       "      <td>6200</td>\n",
       "      <td>0.929688</td>\n",
       "    </tr>\n",
       "    <tr>\n",
       "      <th>38</th>\n",
       "      <td>1.659877e+09</td>\n",
       "      <td>3800</td>\n",
       "      <td>0.929688</td>\n",
       "    </tr>\n",
       "    <tr>\n",
       "      <th>41</th>\n",
       "      <td>1.659878e+09</td>\n",
       "      <td>4100</td>\n",
       "      <td>0.936035</td>\n",
       "    </tr>\n",
       "  </tbody>\n",
       "</table>\n",
       "<p>105 rows × 3 columns</p>\n",
       "</div>"
      ],
      "text/plain": [
       "       Wall time  Step     Value\n",
       "0   1.659869e+09     0  0.555664\n",
       "1   1.659869e+09   100  0.604492\n",
       "2   1.659869e+09   200  0.673340\n",
       "5   1.659870e+09   500  0.677246\n",
       "4   1.659870e+09   400  0.686523\n",
       "..           ...   ...       ...\n",
       "49  1.659880e+09  4900  0.926270\n",
       "64  1.659883e+09  6400  0.926270\n",
       "62  1.659882e+09  6200  0.929688\n",
       "38  1.659877e+09  3800  0.929688\n",
       "41  1.659878e+09  4100  0.936035\n",
       "\n",
       "[105 rows x 3 columns]"
      ]
     },
     "execution_count": 13,
     "metadata": {},
     "output_type": "execute_result"
    }
   ],
   "source": [
    "df.sort_values(by=['Value'])"
   ]
  },
  {
   "cell_type": "code",
   "execution_count": 14,
   "id": "aa7a47f2-f2ac-4ae8-aac8-09c2fcc4f5ac",
   "metadata": {},
   "outputs": [],
   "source": [
    "csv_path = \"run-3shot2distractor15_with_data_augmentation_test_guasian_noise5-tag-Accuracy_test_query_nway_accuracy.csv\"\n",
    "df = pd.read_csv(csv_path)\n",
    "# df = df[df[\"Step\"] > 10000]\n",
    "# os.remove(csv_path)\n",
    "# csv_path"
   ]
  },
  {
   "cell_type": "code",
   "execution_count": 15,
   "id": "da1f6504-34db-4ffd-9f84-b541473a0abe",
   "metadata": {},
   "outputs": [
    {
     "data": {
      "text/html": [
       "<div>\n",
       "<style scoped>\n",
       "    .dataframe tbody tr th:only-of-type {\n",
       "        vertical-align: middle;\n",
       "    }\n",
       "\n",
       "    .dataframe tbody tr th {\n",
       "        vertical-align: top;\n",
       "    }\n",
       "\n",
       "    .dataframe thead th {\n",
       "        text-align: right;\n",
       "    }\n",
       "</style>\n",
       "<table border=\"1\" class=\"dataframe\">\n",
       "  <thead>\n",
       "    <tr style=\"text-align: right;\">\n",
       "      <th></th>\n",
       "      <th>Wall time</th>\n",
       "      <th>Step</th>\n",
       "      <th>Value</th>\n",
       "    </tr>\n",
       "  </thead>\n",
       "  <tbody>\n",
       "    <tr>\n",
       "      <th>0</th>\n",
       "      <td>1.659869e+09</td>\n",
       "      <td>0</td>\n",
       "      <td>0.561523</td>\n",
       "    </tr>\n",
       "    <tr>\n",
       "      <th>1</th>\n",
       "      <td>1.659869e+09</td>\n",
       "      <td>100</td>\n",
       "      <td>0.720215</td>\n",
       "    </tr>\n",
       "    <tr>\n",
       "      <th>2</th>\n",
       "      <td>1.659869e+09</td>\n",
       "      <td>200</td>\n",
       "      <td>0.755371</td>\n",
       "    </tr>\n",
       "    <tr>\n",
       "      <th>4</th>\n",
       "      <td>1.659870e+09</td>\n",
       "      <td>400</td>\n",
       "      <td>0.764648</td>\n",
       "    </tr>\n",
       "    <tr>\n",
       "      <th>3</th>\n",
       "      <td>1.659870e+09</td>\n",
       "      <td>300</td>\n",
       "      <td>0.789551</td>\n",
       "    </tr>\n",
       "    <tr>\n",
       "      <th>...</th>\n",
       "      <td>...</td>\n",
       "      <td>...</td>\n",
       "      <td>...</td>\n",
       "    </tr>\n",
       "    <tr>\n",
       "      <th>95</th>\n",
       "      <td>1.659890e+09</td>\n",
       "      <td>9500</td>\n",
       "      <td>0.962891</td>\n",
       "    </tr>\n",
       "    <tr>\n",
       "      <th>82</th>\n",
       "      <td>1.659887e+09</td>\n",
       "      <td>8200</td>\n",
       "      <td>0.965332</td>\n",
       "    </tr>\n",
       "    <tr>\n",
       "      <th>100</th>\n",
       "      <td>1.659891e+09</td>\n",
       "      <td>10000</td>\n",
       "      <td>0.965332</td>\n",
       "    </tr>\n",
       "    <tr>\n",
       "      <th>102</th>\n",
       "      <td>1.659891e+09</td>\n",
       "      <td>10200</td>\n",
       "      <td>0.965332</td>\n",
       "    </tr>\n",
       "    <tr>\n",
       "      <th>103</th>\n",
       "      <td>1.659891e+09</td>\n",
       "      <td>10300</td>\n",
       "      <td>0.967773</td>\n",
       "    </tr>\n",
       "  </tbody>\n",
       "</table>\n",
       "<p>105 rows × 3 columns</p>\n",
       "</div>"
      ],
      "text/plain": [
       "        Wall time   Step     Value\n",
       "0    1.659869e+09      0  0.561523\n",
       "1    1.659869e+09    100  0.720215\n",
       "2    1.659869e+09    200  0.755371\n",
       "4    1.659870e+09    400  0.764648\n",
       "3    1.659870e+09    300  0.789551\n",
       "..            ...    ...       ...\n",
       "95   1.659890e+09   9500  0.962891\n",
       "82   1.659887e+09   8200  0.965332\n",
       "100  1.659891e+09  10000  0.965332\n",
       "102  1.659891e+09  10200  0.965332\n",
       "103  1.659891e+09  10300  0.967773\n",
       "\n",
       "[105 rows x 3 columns]"
      ]
     },
     "execution_count": 15,
     "metadata": {},
     "output_type": "execute_result"
    }
   ],
   "source": [
    "df.sort_values(by=['Value'])"
   ]
  },
  {
   "cell_type": "code",
   "execution_count": 32,
   "id": "b085740d-ef03-451b-ba4b-ec8f80e59de1",
   "metadata": {},
   "outputs": [
    {
     "data": {
      "text/plain": [
       "('0.8572', '0.0206')"
      ]
     },
     "execution_count": 32,
     "metadata": {},
     "output_type": "execute_result"
    }
   ],
   "source": [
    "f\"{df.Value.mean():.4f}\",f\"{df.Value.std():.04f}\""
   ]
  },
  {
   "cell_type": "code",
   "execution_count": 28,
   "id": "f07d2f96-5e00-4e62-9325-0deee4e4cae8",
   "metadata": {},
   "outputs": [
    {
     "ename": "FileNotFoundError",
     "evalue": "[Errno 2] No such file or directory: 'run-maml_base_plus-tag-Accuracy_test_label_query_nway_accuracy.csv'",
     "output_type": "error",
     "traceback": [
      "\u001b[0;31m---------------------------------------------------------------------------\u001b[0m",
      "\u001b[0;31mFileNotFoundError\u001b[0m                         Traceback (most recent call last)",
      "\u001b[0;32m<ipython-input-28-faec813f8a95>\u001b[0m in \u001b[0;36m<module>\u001b[0;34m\u001b[0m\n\u001b[1;32m      1\u001b[0m \u001b[0mcsv_path\u001b[0m \u001b[0;34m=\u001b[0m \u001b[0;34m\"run-maml_base_plus-tag-Accuracy_test_label_query_nway_accuracy.csv\"\u001b[0m\u001b[0;34m\u001b[0m\u001b[0;34m\u001b[0m\u001b[0m\n\u001b[0;32m----> 2\u001b[0;31m \u001b[0mdf\u001b[0m \u001b[0;34m=\u001b[0m \u001b[0mpd\u001b[0m\u001b[0;34m.\u001b[0m\u001b[0mread_csv\u001b[0m\u001b[0;34m(\u001b[0m\u001b[0mcsv_path\u001b[0m\u001b[0;34m)\u001b[0m\u001b[0;34m\u001b[0m\u001b[0;34m\u001b[0m\u001b[0m\n\u001b[0m\u001b[1;32m      3\u001b[0m \u001b[0mdf\u001b[0m \u001b[0;34m=\u001b[0m \u001b[0mdf\u001b[0m\u001b[0;34m[\u001b[0m\u001b[0mdf\u001b[0m\u001b[0;34m[\u001b[0m\u001b[0;34m\"Step\"\u001b[0m\u001b[0;34m]\u001b[0m \u001b[0;34m>\u001b[0m \u001b[0;36m10000\u001b[0m\u001b[0;34m]\u001b[0m\u001b[0;34m\u001b[0m\u001b[0;34m\u001b[0m\u001b[0m\n\u001b[1;32m      4\u001b[0m \u001b[0mos\u001b[0m\u001b[0;34m.\u001b[0m\u001b[0mremove\u001b[0m\u001b[0;34m(\u001b[0m\u001b[0mcsv_path\u001b[0m\u001b[0;34m)\u001b[0m\u001b[0;34m\u001b[0m\u001b[0;34m\u001b[0m\u001b[0m\n\u001b[1;32m      5\u001b[0m \u001b[0mcsv_path\u001b[0m\u001b[0;34m\u001b[0m\u001b[0;34m\u001b[0m\u001b[0m\n",
      "\u001b[0;32m~/.local/lib/python3.6/site-packages/pandas/io/parsers.py\u001b[0m in \u001b[0;36mread_csv\u001b[0;34m(filepath_or_buffer, sep, delimiter, header, names, index_col, usecols, squeeze, prefix, mangle_dupe_cols, dtype, engine, converters, true_values, false_values, skipinitialspace, skiprows, skipfooter, nrows, na_values, keep_default_na, na_filter, verbose, skip_blank_lines, parse_dates, infer_datetime_format, keep_date_col, date_parser, dayfirst, cache_dates, iterator, chunksize, compression, thousands, decimal, lineterminator, quotechar, quoting, doublequote, escapechar, comment, encoding, dialect, error_bad_lines, warn_bad_lines, delim_whitespace, low_memory, memory_map, float_precision)\u001b[0m\n\u001b[1;32m    686\u001b[0m     )\n\u001b[1;32m    687\u001b[0m \u001b[0;34m\u001b[0m\u001b[0m\n\u001b[0;32m--> 688\u001b[0;31m     \u001b[0;32mreturn\u001b[0m \u001b[0m_read\u001b[0m\u001b[0;34m(\u001b[0m\u001b[0mfilepath_or_buffer\u001b[0m\u001b[0;34m,\u001b[0m \u001b[0mkwds\u001b[0m\u001b[0;34m)\u001b[0m\u001b[0;34m\u001b[0m\u001b[0;34m\u001b[0m\u001b[0m\n\u001b[0m\u001b[1;32m    689\u001b[0m \u001b[0;34m\u001b[0m\u001b[0m\n\u001b[1;32m    690\u001b[0m \u001b[0;34m\u001b[0m\u001b[0m\n",
      "\u001b[0;32m~/.local/lib/python3.6/site-packages/pandas/io/parsers.py\u001b[0m in \u001b[0;36m_read\u001b[0;34m(filepath_or_buffer, kwds)\u001b[0m\n\u001b[1;32m    452\u001b[0m \u001b[0;34m\u001b[0m\u001b[0m\n\u001b[1;32m    453\u001b[0m     \u001b[0;31m# Create the parser.\u001b[0m\u001b[0;34m\u001b[0m\u001b[0;34m\u001b[0m\u001b[0;34m\u001b[0m\u001b[0m\n\u001b[0;32m--> 454\u001b[0;31m     \u001b[0mparser\u001b[0m \u001b[0;34m=\u001b[0m \u001b[0mTextFileReader\u001b[0m\u001b[0;34m(\u001b[0m\u001b[0mfp_or_buf\u001b[0m\u001b[0;34m,\u001b[0m \u001b[0;34m**\u001b[0m\u001b[0mkwds\u001b[0m\u001b[0;34m)\u001b[0m\u001b[0;34m\u001b[0m\u001b[0;34m\u001b[0m\u001b[0m\n\u001b[0m\u001b[1;32m    455\u001b[0m \u001b[0;34m\u001b[0m\u001b[0m\n\u001b[1;32m    456\u001b[0m     \u001b[0;32mif\u001b[0m \u001b[0mchunksize\u001b[0m \u001b[0;32mor\u001b[0m \u001b[0miterator\u001b[0m\u001b[0;34m:\u001b[0m\u001b[0;34m\u001b[0m\u001b[0;34m\u001b[0m\u001b[0m\n",
      "\u001b[0;32m~/.local/lib/python3.6/site-packages/pandas/io/parsers.py\u001b[0m in \u001b[0;36m__init__\u001b[0;34m(self, f, engine, **kwds)\u001b[0m\n\u001b[1;32m    946\u001b[0m             \u001b[0mself\u001b[0m\u001b[0;34m.\u001b[0m\u001b[0moptions\u001b[0m\u001b[0;34m[\u001b[0m\u001b[0;34m\"has_index_names\"\u001b[0m\u001b[0;34m]\u001b[0m \u001b[0;34m=\u001b[0m \u001b[0mkwds\u001b[0m\u001b[0;34m[\u001b[0m\u001b[0;34m\"has_index_names\"\u001b[0m\u001b[0;34m]\u001b[0m\u001b[0;34m\u001b[0m\u001b[0;34m\u001b[0m\u001b[0m\n\u001b[1;32m    947\u001b[0m \u001b[0;34m\u001b[0m\u001b[0m\n\u001b[0;32m--> 948\u001b[0;31m         \u001b[0mself\u001b[0m\u001b[0;34m.\u001b[0m\u001b[0m_make_engine\u001b[0m\u001b[0;34m(\u001b[0m\u001b[0mself\u001b[0m\u001b[0;34m.\u001b[0m\u001b[0mengine\u001b[0m\u001b[0;34m)\u001b[0m\u001b[0;34m\u001b[0m\u001b[0;34m\u001b[0m\u001b[0m\n\u001b[0m\u001b[1;32m    949\u001b[0m \u001b[0;34m\u001b[0m\u001b[0m\n\u001b[1;32m    950\u001b[0m     \u001b[0;32mdef\u001b[0m \u001b[0mclose\u001b[0m\u001b[0;34m(\u001b[0m\u001b[0mself\u001b[0m\u001b[0;34m)\u001b[0m\u001b[0;34m:\u001b[0m\u001b[0;34m\u001b[0m\u001b[0;34m\u001b[0m\u001b[0m\n",
      "\u001b[0;32m~/.local/lib/python3.6/site-packages/pandas/io/parsers.py\u001b[0m in \u001b[0;36m_make_engine\u001b[0;34m(self, engine)\u001b[0m\n\u001b[1;32m   1178\u001b[0m     \u001b[0;32mdef\u001b[0m \u001b[0m_make_engine\u001b[0m\u001b[0;34m(\u001b[0m\u001b[0mself\u001b[0m\u001b[0;34m,\u001b[0m \u001b[0mengine\u001b[0m\u001b[0;34m=\u001b[0m\u001b[0;34m\"c\"\u001b[0m\u001b[0;34m)\u001b[0m\u001b[0;34m:\u001b[0m\u001b[0;34m\u001b[0m\u001b[0;34m\u001b[0m\u001b[0m\n\u001b[1;32m   1179\u001b[0m         \u001b[0;32mif\u001b[0m \u001b[0mengine\u001b[0m \u001b[0;34m==\u001b[0m \u001b[0;34m\"c\"\u001b[0m\u001b[0;34m:\u001b[0m\u001b[0;34m\u001b[0m\u001b[0;34m\u001b[0m\u001b[0m\n\u001b[0;32m-> 1180\u001b[0;31m             \u001b[0mself\u001b[0m\u001b[0;34m.\u001b[0m\u001b[0m_engine\u001b[0m \u001b[0;34m=\u001b[0m \u001b[0mCParserWrapper\u001b[0m\u001b[0;34m(\u001b[0m\u001b[0mself\u001b[0m\u001b[0;34m.\u001b[0m\u001b[0mf\u001b[0m\u001b[0;34m,\u001b[0m \u001b[0;34m**\u001b[0m\u001b[0mself\u001b[0m\u001b[0;34m.\u001b[0m\u001b[0moptions\u001b[0m\u001b[0;34m)\u001b[0m\u001b[0;34m\u001b[0m\u001b[0;34m\u001b[0m\u001b[0m\n\u001b[0m\u001b[1;32m   1181\u001b[0m         \u001b[0;32melse\u001b[0m\u001b[0;34m:\u001b[0m\u001b[0;34m\u001b[0m\u001b[0;34m\u001b[0m\u001b[0m\n\u001b[1;32m   1182\u001b[0m             \u001b[0;32mif\u001b[0m \u001b[0mengine\u001b[0m \u001b[0;34m==\u001b[0m \u001b[0;34m\"python\"\u001b[0m\u001b[0;34m:\u001b[0m\u001b[0;34m\u001b[0m\u001b[0;34m\u001b[0m\u001b[0m\n",
      "\u001b[0;32m~/.local/lib/python3.6/site-packages/pandas/io/parsers.py\u001b[0m in \u001b[0;36m__init__\u001b[0;34m(self, src, **kwds)\u001b[0m\n\u001b[1;32m   2008\u001b[0m         \u001b[0mkwds\u001b[0m\u001b[0;34m[\u001b[0m\u001b[0;34m\"usecols\"\u001b[0m\u001b[0;34m]\u001b[0m \u001b[0;34m=\u001b[0m \u001b[0mself\u001b[0m\u001b[0;34m.\u001b[0m\u001b[0musecols\u001b[0m\u001b[0;34m\u001b[0m\u001b[0;34m\u001b[0m\u001b[0m\n\u001b[1;32m   2009\u001b[0m \u001b[0;34m\u001b[0m\u001b[0m\n\u001b[0;32m-> 2010\u001b[0;31m         \u001b[0mself\u001b[0m\u001b[0;34m.\u001b[0m\u001b[0m_reader\u001b[0m \u001b[0;34m=\u001b[0m \u001b[0mparsers\u001b[0m\u001b[0;34m.\u001b[0m\u001b[0mTextReader\u001b[0m\u001b[0;34m(\u001b[0m\u001b[0msrc\u001b[0m\u001b[0;34m,\u001b[0m \u001b[0;34m**\u001b[0m\u001b[0mkwds\u001b[0m\u001b[0;34m)\u001b[0m\u001b[0;34m\u001b[0m\u001b[0;34m\u001b[0m\u001b[0m\n\u001b[0m\u001b[1;32m   2011\u001b[0m         \u001b[0mself\u001b[0m\u001b[0;34m.\u001b[0m\u001b[0munnamed_cols\u001b[0m \u001b[0;34m=\u001b[0m \u001b[0mself\u001b[0m\u001b[0;34m.\u001b[0m\u001b[0m_reader\u001b[0m\u001b[0;34m.\u001b[0m\u001b[0munnamed_cols\u001b[0m\u001b[0;34m\u001b[0m\u001b[0;34m\u001b[0m\u001b[0m\n\u001b[1;32m   2012\u001b[0m \u001b[0;34m\u001b[0m\u001b[0m\n",
      "\u001b[0;32mpandas/_libs/parsers.pyx\u001b[0m in \u001b[0;36mpandas._libs.parsers.TextReader.__cinit__\u001b[0;34m()\u001b[0m\n",
      "\u001b[0;32mpandas/_libs/parsers.pyx\u001b[0m in \u001b[0;36mpandas._libs.parsers.TextReader._setup_parser_source\u001b[0;34m()\u001b[0m\n",
      "\u001b[0;31mFileNotFoundError\u001b[0m: [Errno 2] No such file or directory: 'run-maml_base_plus-tag-Accuracy_test_label_query_nway_accuracy.csv'"
     ]
    }
   ],
   "source": [
    "csv_path = \"run-maml_base_plus-tag-Accuracy_test_label_query_nway_accuracy.csv\"\n",
    "df = pd.read_csv(csv_path)\n",
    "df = df[df[\"Step\"] > 10000]\n",
    "os.remove(csv_path)\n",
    "csv_path"
   ]
  },
  {
   "cell_type": "code",
   "execution_count": 28,
   "id": "5dac4d41-05d2-4390-a80b-7c2c8f43e141",
   "metadata": {},
   "outputs": [
    {
     "data": {
      "text/plain": [
       "('0.8725', '0.0071')"
      ]
     },
     "execution_count": 28,
     "metadata": {},
     "output_type": "execute_result"
    }
   ],
   "source": [
    "f\"{df.Value.mean():.4f}\",f\"{df.Value.std():.04f}\""
   ]
  },
  {
   "cell_type": "code",
   "execution_count": 33,
   "id": "816bc0b9-5542-4b45-8390-597b554f5ece",
   "metadata": {},
   "outputs": [
    {
     "data": {
      "text/plain": [
       "'run-maml_base-tag-Accuracy_test_label_query_nway_accuracy.csv'"
      ]
     },
     "execution_count": 33,
     "metadata": {},
     "output_type": "execute_result"
    }
   ],
   "source": [
    "csv_path = \"run-maml_base-tag-Accuracy_test_label_query_nway_accuracy.csv\"\n",
    "df = pd.read_csv(csv_path)\n",
    "df = df[df[\"Step\"] > 6000]\n",
    "os.remove(csv_path)\n",
    "csv_path"
   ]
  },
  {
   "cell_type": "code",
   "execution_count": 34,
   "id": "f27759bb-b8b8-4014-aafd-ec509e7f6557",
   "metadata": {},
   "outputs": [
    {
     "data": {
      "text/plain": [
       "('0.8770', '0.0066')"
      ]
     },
     "execution_count": 34,
     "metadata": {},
     "output_type": "execute_result"
    }
   ],
   "source": [
    "f\"{df.Value.mean():.4f}\",f\"{df.Value.std():.04f}\""
   ]
  },
  {
   "cell_type": "code",
   "execution_count": 25,
   "id": "7affb036-fc44-4607-9b0a-109cbda433d0",
   "metadata": {},
   "outputs": [
    {
     "data": {
      "text/plain": [
       "'run-2distractor15_with_data_augmentation-tag-Accuracy_test_total_query_nway_accuracy.csv'"
      ]
     },
     "execution_count": 25,
     "metadata": {},
     "output_type": "execute_result"
    }
   ],
   "source": [
    "csv_path = \"run-2distractor15_with_data_augmentation-tag-Accuracy_test_total_query_nway_accuracy.csv\"\n",
    "df = pd.read_csv(csv_path)\n",
    "df = df[df[\"Step\"] > 10000]\n",
    "os.remove(csv_path)\n",
    "csv_path"
   ]
  },
  {
   "cell_type": "code",
   "execution_count": 26,
   "id": "cb45090f-dcff-41a8-8117-f79fd7419a22",
   "metadata": {},
   "outputs": [
    {
     "data": {
      "text/plain": [
       "('0.8173', '0.0092')"
      ]
     },
     "execution_count": 26,
     "metadata": {},
     "output_type": "execute_result"
    }
   ],
   "source": [
    "f\"{df.Value.mean():.4f}\",f\"{df.Value.std():.04f}\""
   ]
  },
  {
   "cell_type": "code",
   "execution_count": 8,
   "id": "3c068e4d-7bee-467a-acf7-0e37a1ea7909",
   "metadata": {},
   "outputs": [
    {
     "data": {
      "text/plain": [
       "'run-maml_base_plus-tag-Accuracy_test_label_query_nway_accuracy.csv'"
      ]
     },
     "execution_count": 8,
     "metadata": {},
     "output_type": "execute_result"
    }
   ],
   "source": [
    "csv_path = \"run-maml_base_plus-tag-Accuracy_test_label_query_nway_accuracy.csv\"\n",
    "df = pd.read_csv(csv_path)\n",
    "df = df[df[\"Step\"] > 10000]\n",
    "os.remove(csv_path)\n",
    "csv_path"
   ]
  },
  {
   "cell_type": "code",
   "execution_count": 9,
   "id": "66094fc7-1c6f-4f6b-9630-905c0d0c8701",
   "metadata": {},
   "outputs": [
    {
     "data": {
      "text/plain": [
       "('0.8725', '0.0071')"
      ]
     },
     "execution_count": 9,
     "metadata": {},
     "output_type": "execute_result"
    }
   ],
   "source": [
    "f\"{df.Value.mean():.4f}\",f\"{df.Value.std():.04f}\""
   ]
  },
  {
   "cell_type": "code",
   "execution_count": 12,
   "id": "2262cf2b-18a4-4dfd-9b73-f7ab1f337eb1",
   "metadata": {},
   "outputs": [
    {
     "data": {
      "text/plain": [
       "'run-maml_base-tag-Accuracy_test_label_query_nway_accuracy.csv'"
      ]
     },
     "execution_count": 12,
     "metadata": {},
     "output_type": "execute_result"
    }
   ],
   "source": [
    "csv_path = \"run-maml_base-tag-Accuracy_test_label_query_nway_accuracy.csv\"\n",
    "df = pd.read_csv(csv_path)\n",
    "df = df[df[\"Step\"] > 8000]\n",
    "os.remove(csv_path)\n",
    "csv_path"
   ]
  },
  {
   "cell_type": "code",
   "execution_count": 13,
   "id": "57a4976a-ca73-43cc-a5f0-7bc43491bfb5",
   "metadata": {},
   "outputs": [
    {
     "data": {
      "text/plain": [
       "('0.8739', '0.0070')"
      ]
     },
     "execution_count": 13,
     "metadata": {},
     "output_type": "execute_result"
    }
   ],
   "source": [
    "f\"{df.Value.mean():.4f}\",f\"{df.Value.std():.04f}\""
   ]
  },
  {
   "cell_type": "code",
   "execution_count": 25,
   "id": "e1d497a3-8456-401d-a065-e983c4e5b7cb",
   "metadata": {},
   "outputs": [],
   "source": [
    "ans_box = dict()"
   ]
  },
  {
   "cell_type": "code",
   "execution_count": 26,
   "id": "2ce5b4fc-6b85-442f-9e41-d0fdfb2402fa",
   "metadata": {},
   "outputs": [
    {
     "data": {
      "text/plain": [
       "{}"
      ]
     },
     "execution_count": 26,
     "metadata": {},
     "output_type": "execute_result"
    }
   ],
   "source": [
    "ans_box"
   ]
  },
  {
   "cell_type": "code",
   "execution_count": 29,
   "id": "e50cc793-d2cb-42d4-8395-275f1ff002fb",
   "metadata": {},
   "outputs": [],
   "source": [
    "numRows = 4\n",
    "for i in range(numRows):\n",
    "    ans_box[i] = \"\""
   ]
  },
  {
   "cell_type": "code",
   "execution_count": 30,
   "id": "e121c84f-018b-446f-8033-393b6cffa4a7",
   "metadata": {},
   "outputs": [
    {
     "data": {
      "text/plain": [
       "{0: '', 1: '', 2: '', 3: ''}"
      ]
     },
     "execution_count": 30,
     "metadata": {},
     "output_type": "execute_result"
    }
   ],
   "source": [
    "ans_box"
   ]
  },
  {
   "cell_type": "code",
   "execution_count": 235,
   "id": "164ceb31-b29a-42c1-ab2b-c9ef8d122de4",
   "metadata": {},
   "outputs": [
    {
     "data": {
      "text/plain": [
       "4294967296"
      ]
     },
     "execution_count": 235,
     "metadata": {},
     "output_type": "execute_result"
    }
   ],
   "source": [
    "2**32"
   ]
  },
  {
   "cell_type": "code",
   "execution_count": null,
   "id": "4e3b1092-089d-4e58-af2a-65982794d037",
   "metadata": {},
   "outputs": [],
   "source": []
  }
 ],
 "metadata": {
  "kernelspec": {
   "display_name": "Python 3",
   "language": "python",
   "name": "python3"
  },
  "language_info": {
   "codemirror_mode": {
    "name": "ipython",
    "version": 3
   },
   "file_extension": ".py",
   "mimetype": "text/x-python",
   "name": "python",
   "nbconvert_exporter": "python",
   "pygments_lexer": "ipython3",
   "version": "3.6.9"
  }
 },
 "nbformat": 4,
 "nbformat_minor": 5
}
