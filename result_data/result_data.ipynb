{
 "cells": [
  {
   "cell_type": "code",
   "execution_count": 40,
   "id": "043d4c9d-d7f9-4c13-8acc-26c1fcfe306c",
   "metadata": {},
   "outputs": [],
   "source": [
    "import pandas as pd"
   ]
  },
  {
   "cell_type": "code",
   "execution_count": 41,
   "id": "f85d1128-5362-4d0c-bd5d-e291af8df82f",
   "metadata": {},
   "outputs": [],
   "source": [
    "df = pd.read_csv(\"run-5way1shot2distractor1gan_evaluation-tag-Accuracy_test_label_query_nway_accuracy (1).csv\")"
   ]
  },
  {
   "cell_type": "code",
   "execution_count": 42,
   "id": "5b51966e-d16d-4f33-8ec9-ecef5d925f2f",
   "metadata": {},
   "outputs": [
    {
     "name": "stdout",
     "output_type": "stream",
     "text": [
      "mean:0.6863823784722223,std:0.03211246559513228\n"
     ]
    }
   ],
   "source": [
    "df = df[df[\"Step\"] >= 10000]\n",
    "mean = df[\"Value\"].mean()\n",
    "std = df[\"Value\"].std()\n",
    "print(f\"mean:{mean},std:{std}\")\n",
    "df[\"z-score\"] = (df[\"Value\"] - df[\"Value\"].mean()) /  df[\"Value\"].std()"
   ]
  },
  {
   "cell_type": "code",
   "execution_count": 16,
   "id": "bb18faff-0bec-41fc-a8b2-6f2c9d7899be",
   "metadata": {},
   "outputs": [],
   "source": [
    "df = pd.read_csv(\"run-5way1shot2distractor1gan_evaluation-tag-Accuracy_test_query_nway_accuracy.csv\")"
   ]
  },
  {
   "cell_type": "code",
   "execution_count": 17,
   "id": "28becdca-82f8-4c78-98fd-fd9c9d6ee149",
   "metadata": {
    "tags": []
   },
   "outputs": [
    {
     "name": "stdout",
     "output_type": "stream",
     "text": [
      "mean:0.8090639467592593,std:0.014122858835290807\n"
     ]
    }
   ],
   "source": [
    "df = df[df[\"Step\"] >= 10000]\n",
    "mean = df[\"Value\"].mean()\n",
    "std = df[\"Value\"].std()\n",
    "print(f\"mean:{mean},std:{std}\")\n",
    "df[\"z-score\"] = (df[\"Value\"] - df[\"Value\"].mean()) /  df[\"Value\"].std()"
   ]
  },
  {
   "cell_type": "code",
   "execution_count": null,
   "id": "f6a8bfd8-c367-4b7d-8305-99b1dd297664",
   "metadata": {},
   "outputs": [],
   "source": [
    "df = pd.read_csv(\"run-5way1shot2distractor1gan-tag-Accuracy_test_query_nway_accuracy.csv\")"
   ]
  },
  {
   "cell_type": "code",
   "execution_count": null,
   "id": "e32983e5-8be5-494a-b939-fddd361603c8",
   "metadata": {
    "tags": []
   },
   "outputs": [
    {
     "name": "stdout",
     "output_type": "stream",
     "text": [
      "mean:0.670304008152174,std:0.034212619205060406\n"
     ]
    }
   ],
   "source": [
    "df = df[df[\"Step\"] >= 10000]\n",
    "mean = df[\"Value\"].mean()\n",
    "std = df[\"Value\"].std()\n",
    "print(f\"mean:{mean},std:{std}\")\n",
    "df[\"z-score\"] = (df[\"Value\"] - df[\"Value\"].mean()) /  df[\"Value\"].std()"
   ]
  },
  {
   "cell_type": "code",
   "execution_count": null,
   "id": "ec94625c-63b2-4c2d-9685-e0a60c5cac28",
   "metadata": {},
   "outputs": [],
   "source": []
  }
 ],
 "metadata": {
  "kernelspec": {
   "display_name": "Python 3",
   "language": "python",
   "name": "python3"
  },
  "language_info": {
   "codemirror_mode": {
    "name": "ipython",
    "version": 3
   },
   "file_extension": ".py",
   "mimetype": "text/x-python",
   "name": "python",
   "nbconvert_exporter": "python",
   "pygments_lexer": "ipython3",
   "version": "3.6.9"
  }
 },
 "nbformat": 4,
 "nbformat_minor": 5
}
